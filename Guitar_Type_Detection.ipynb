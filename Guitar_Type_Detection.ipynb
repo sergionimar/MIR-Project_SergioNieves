{
 "cells": [
  {
   "cell_type": "markdown",
   "metadata": {},
   "source": [
    "# Guitar Type Classification"
   ]
  },
  {
   "cell_type": "code",
   "execution_count": 1,
   "metadata": {},
   "outputs": [],
   "source": [
    "import numpy as np\n",
    "import os\n",
    "import essentia.standard as es\n",
    "from scipy.io import wavfile\n",
    "from sklearn.svm import SVC\n",
    "from sklearn.metrics import accuracy_score, confusion_matrix"
   ]
  },
  {
   "cell_type": "markdown",
   "metadata": {},
   "source": [
    "## Functions"
   ]
  },
  {
   "cell_type": "code",
   "execution_count": 2,
   "metadata": {},
   "outputs": [],
   "source": [
    "#Function to select the data of the database depending on the speed and the genres to be used\n",
    "def select_dataset(path_to_dataset,velocity_list,genre_list):\n",
    "    files=[]\n",
    "    labels=[]\n",
    "    for velocity in velocity_list:\n",
    "        for genre in genre_list:\n",
    "            \n",
    "            file_route=path_to_dataset+'acoustic_mic/'+velocity+'/'+genre+'/audio/'\n",
    "            for filename in os.listdir(file_route):\n",
    "                files.append(file_route+filename)\n",
    "                labels.append('acoustic')\n",
    "                \n",
    "            file_route=path_to_dataset+'acoustic_pickup/'+velocity+'/'+genre+'/audio/'\n",
    "            for filename in os.listdir(file_route):\n",
    "                files.append(file_route+filename)\n",
    "                labels.append('acoustic')\n",
    "                \n",
    "            file_route=path_to_dataset+'Career SG/'+velocity+'/'+genre+'/audio/'\n",
    "            for filename in os.listdir(file_route):\n",
    "                files.append(file_route+filename)\n",
    "                labels.append('electric')\n",
    "                \n",
    "            file_route=path_to_dataset+'Ibanez 2820/'+velocity+'/'+genre+'/audio/'\n",
    "            for filename in os.listdir(file_route):\n",
    "                files.append(file_route+filename)\n",
    "                labels.append('electric')\n",
    "      \n",
    "    # Return an array with the path of all the files to use and another array with the corresponding labels\n",
    "    return files,labels\n",
    "\n",
    "#Function to extract sound features frame by frame of the dataset selected\n",
    "def extract_features(files,labels):\n",
    "    fs=44100\n",
    "    M=44100 #frames of 1 second length\n",
    "    N=1024\n",
    "    H=int(M/2)\n",
    "\n",
    "    #Setting up Essentia functions to be used\n",
    "    spectrum = es.Spectrum(size=N)\n",
    "    window = es.Windowing(size=M, type='hann')\n",
    "    mfcc_algo = es.MFCC()\n",
    "    barkbands_algo = es.BarkBands()\n",
    "    LLSEE=es.LowLevelSpectralEqloudExtractor()\n",
    "    \n",
    "    frames_labels=[]\n",
    "    frames_features=[]\n",
    "    \n",
    "    # For loop to run all the dataset files\n",
    "    for file in files:\n",
    "        \n",
    "        x=es.MonoLoader(filename = file)() \n",
    "        x=x[15*fs:len(x)] # Remove the first 15 seconds of the audio, where is a rhythm to define the tempo\n",
    "        \n",
    "        label=labels[files.index(file)] # Set the label of the current file\n",
    "        \n",
    "        # Move along the file frame by frame\n",
    "        for frame in es.FrameGenerator(x, frameSize=M, hopSize=H, startFromZero=True):              \n",
    "            mX = spectrum(window(frame))\n",
    "            \n",
    "            # Extract features of the spectrum of the frame\n",
    "            _, mfcc_coeffs = mfcc_algo(mX)\n",
    "            barkbands=barkbands_algo(mX)\n",
    "            scvalleys=LLSEE(mX)[2]\n",
    "            frames_features.append(list(mfcc_coeffs)+list(barkbands)+list(scvalleys[0])) #Set all the features of a frame as a list\n",
    "            frames_labels.append(label) #Set a label for each frame\n",
    "\n",
    "    frames_features = np.array(frames_features,dtype=object)\n",
    "    \n",
    "    #return a group of arrays with all the features of each frame and the corresponding labels\n",
    "    return frames_features, frames_labels"
   ]
  },
  {
   "cell_type": "markdown",
   "metadata": {},
   "source": [
    "## Training model"
   ]
  },
  {
   "cell_type": "code",
   "execution_count": 3,
   "metadata": {},
   "outputs": [
    {
     "data": {
      "text/plain": [
       "SVC(C=1.0, cache_size=200, class_weight=None, coef0=0.0,\n",
       "  decision_function_shape='ovr', degree=3, gamma='auto', kernel='rbf',\n",
       "  max_iter=-1, probability=False, random_state=None, shrinking=True,\n",
       "  tol=0.001, verbose=False)"
      ]
     },
     "execution_count": 3,
     "metadata": {},
     "output_type": "execute_result"
    }
   ],
   "source": [
    "# Path of the dataset directory\n",
    "path_to_dataset='IDMT-SMT-GUITAR_V2/dataset4/'\n",
    "\n",
    "training_files=[]\n",
    "training_labels=[]\n",
    "\n",
    "# Select the velocity and the genres of the files to use\n",
    "velocity_list=['slow','fast']\n",
    "genre_list=['classical','jazz','metal','pop']\n",
    "\n",
    "# Select the files to train the model and extract their features\n",
    "[training_files,training_labels]=select_dataset(path_to_dataset,velocity_list,genre_list)\n",
    "[training_features,frames_labels]=extract_features(training_files,training_labels)\n",
    "\n",
    "# Train a Support Vector Machine algorithm with the features and the labels obtained\n",
    "classification_algo=SVC()\n",
    "classification_algo.fit(training_features,frames_labels)"
   ]
  },
  {
   "cell_type": "markdown",
   "metadata": {},
   "source": [
    "## Testing model"
   ]
  },
  {
   "cell_type": "code",
   "execution_count": 4,
   "metadata": {},
   "outputs": [
    {
     "name": "stdout",
     "output_type": "stream",
     "text": [
      "Accuracy of the model:  0.689167517131 %\n",
      "\n",
      "Confusion matrix:\n",
      "Acoustic Electric\n",
      "  1534     2075   Acoustic\n",
      "  57      3193   Electric\n"
     ]
    }
   ],
   "source": [
    "# Select the velocity and the genres of the files to use\n",
    "velocity_list=['slow','fast']\n",
    "genre_list=['reggae_ska','country_folk','rock_blues','latin']\n",
    "\n",
    "# Select the files to test the model and extract their features\n",
    "[test_files,test_labels]=select_dataset(path_to_dataset,velocity_list,genre_list)\n",
    "[test_features,test_labels]=extract_features(test_files,test_labels)\n",
    "\n",
    "# Predict the labels of each frame of the files selected with the trained algorithm\n",
    "test_predictions=classification_algo.predict(test_features)\n",
    "\n",
    "# Compute the accuracy and the confusion matrix obtained from the prediciton\n",
    "accuracy=accuracy_score(test_labels, test_predictions)\n",
    "print('Accuracy of the model: ',accuracy,'%\\n')\n",
    "confusion_matrix=confusion_matrix(test_labels, test_predictions)\n",
    "print('Confusion matrix:')\n",
    "print('Acoustic Electric')\n",
    "print(' ',confusion_matrix[0][0],'   ',confusion_matrix[0][1],'  Acoustic')\n",
    "print(' ',confusion_matrix[1][0],'    ',confusion_matrix[1][1],'  Electric')"
   ]
  },
  {
   "cell_type": "markdown",
   "metadata": {},
   "source": [
    "## Using the model"
   ]
  },
  {
   "cell_type": "code",
   "execution_count": 5,
   "metadata": {},
   "outputs": [
    {
     "name": "stdout",
     "output_type": "stream",
     "text": [
      "The type of guitar detected is  ['electric']\n"
     ]
    }
   ],
   "source": [
    "# Detect guitar type from an audio file\n",
    "\n",
    "x='IDMT-SMT-GUITAR_V2/dataset4/acoustic_mic/slow/reggae_ska/audio/reggae_2_100BPM.wav',\n",
    "[x_features,_]=extract_features(x,'_')\n",
    "\n",
    "frames_predictions=classification_algo.predict(x_features)\n",
    "unique_elements, counts_elements = np.unique(frames_predictions, return_counts=True)\n",
    "maxim=max(counts_elements)\n",
    "class_predicted=unique_elements[np.where(counts_elements==max(counts_elements))]\n",
    "\n",
    "print('The type of guitar detected is ',class_predicted)"
   ]
  }
 ],
 "metadata": {
  "kernelspec": {
   "display_name": "Python 3",
   "language": "python",
   "name": "python3"
  },
  "language_info": {
   "codemirror_mode": {
    "name": "ipython",
    "version": 3
   },
   "file_extension": ".py",
   "mimetype": "text/x-python",
   "name": "python",
   "nbconvert_exporter": "python",
   "pygments_lexer": "ipython3",
   "version": "3.5.2"
  }
 },
 "nbformat": 4,
 "nbformat_minor": 2
}
